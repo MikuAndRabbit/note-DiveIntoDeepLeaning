{
 "cells": [
  {
   "cell_type": "markdown",
   "source": [
    "### 从零实现线性回归\n",
    "\n",
    "#### 基础操作定义"
   ],
   "metadata": {
    "collapsed": false,
    "pycharm": {
     "name": "#%% md\n"
    }
   }
  },
  {
   "cell_type": "code",
   "execution_count": 2,
   "metadata": {
    "collapsed": true
   },
   "outputs": [],
   "source": [
    "import random\n",
    "import torch\n",
    "from matplotlib import pyplot as plt\n",
    "import os\n",
    "\n",
    "# 避免当下版本matplotlib与pytorch的冲突\n",
    "os.environ['KMP_DUPLICATE_LIB_OK'] = 'True'"
   ]
  },
  {
   "cell_type": "code",
   "execution_count": 3,
   "outputs": [
    {
     "data": {
      "text/plain": "<Figure size 640x480 with 1 Axes>",
      "image/png": "[encoded data removed]"
     },
     "metadata": {},
     "output_type": "display_data"
    }
   ],
   "source": [
    "def synthetic_data(w, b, num_examples):  #@save\n",
    "    \"\"\"生成 y = Xw + b + 噪声\"\"\"\n",
    "    X = torch.normal(0, 1, (num_examples, len(w)))\n",
    "    y = torch.matmul(X, w) + b\n",
    "    y += torch.normal(0, 0.01, y.shape)\n",
    "    return X, y.reshape((-1, 1))\n",
    "\n",
    "\n",
    "true_w = torch.tensor([2, -3.4])\n",
    "true_b = 4.2\n",
    "features, labels = synthetic_data(true_w, true_b, 1000)\n",
    "\n",
    "plt.scatter(features[:, 1].detach().numpy(), labels.detach().numpy(), 1)\n",
    "plt.show()"
   ],
   "metadata": {
    "collapsed": false,
    "pycharm": {
     "name": "#%%\n"
    }
   }
  },
  {
   "cell_type": "code",
   "execution_count": 4,
   "outputs": [],
   "source": [
    "def data_iter(batch_size, features, labels):\n",
    "    \"\"\"\n",
    "    随机采样\n",
    "    :param batch_size: 随机样本大小\n",
    "    :param features: 数据集\n",
    "    :param labels: 数据集对应的标签\n",
    "    :return: 随机样本\n",
    "    \"\"\"\n",
    "    num_examples = len(features)\n",
    "    indices = list(range(num_examples))\n",
    "    # 这些样本是随机读取的,没有特定的顺序\n",
    "    random.shuffle(indices)\n",
    "    for i in range(0, num_examples, batch_size):\n",
    "        batch_indices = torch.tensor(indices[i: min(i + batch_size, num_examples)])\n",
    "        yield features[batch_indices], labels[batch_indices]"
   ],
   "metadata": {
    "collapsed": false,
    "pycharm": {
     "name": "#%%\n"
    }
   }
  },
  {
   "cell_type": "markdown",
   "source": [
    "#### 模型定义"
   ],
   "metadata": {
    "collapsed": false,
    "pycharm": {
     "name": "#%% md\n"
    }
   }
  },
  {
   "cell_type": "code",
   "execution_count": 22,
   "outputs": [],
   "source": [
    "# 初始化模型参数\n",
    "# 从均值为0、标准差为0.01的正态分布中采样随机数来初始化权重,并将偏置初始化为0\n",
    "w = torch.normal(0, 0.01, size=(2, 1), requires_grad=True)\n",
    "b = torch.zeros(1, requires_grad=True)\n",
    "\n",
    "\n",
    "# 定义线性回归模型\n",
    "def lin_reg(X, w, b):\n",
    "    return torch.matmul(X, w) + b\n",
    "\n",
    "\n",
    "# 定义损失函数\n",
    "def squared_loss(y_hat, y):\n",
    "    return (y_hat - y.reshape(y_hat.shape)) ** 2 / 2\n",
    "\n",
    "\n",
    "# 定义优化算法: 小批量随机梯度下降\n",
    "def sgd(params, lr, batch_size):\n",
    "    with torch.no_grad():\n",
    "        for param in params:\n",
    "            param -= lr * param.grad / batch_size\n",
    "            param.grad.zero_()"
   ],
   "metadata": {
    "collapsed": false,
    "pycharm": {
     "name": "#%%\n"
    }
   }
  },
  {
   "cell_type": "markdown",
   "source": [
    "#### 训练模型"
   ],
   "metadata": {
    "collapsed": false
   }
  },
  {
   "cell_type": "code",
   "execution_count": 24,
   "outputs": [
    {
     "name": "stdout",
     "output_type": "stream",
     "text": [
      "epoch 1, loss 0.000051\n",
      "epoch 2, loss 0.000052\n",
      "epoch 3, loss 0.000051\n",
      "epoch 4, loss 0.000051\n",
      "epoch 5, loss 0.000052\n",
      "epoch 6, loss 0.000052\n",
      "epoch 7, loss 0.000050\n",
      "epoch 8, loss 0.000051\n",
      "epoch 9, loss 0.000050\n",
      "epoch 10, loss 0.000051\n",
      "w的估计误差: tensor([0.0002, 0.0006], grad_fn=<SubBackward0>)\n",
      "b的估计误差: tensor([-0.0005], grad_fn=<RsubBackward1>)\n"
     ]
    }
   ],
   "source": [
    "def train(lr, num_epochs, batch_size, net, loss):\n",
    "    for epoch in range(num_epochs):\n",
    "        for X, y in data_iter(batch_size, features, labels):\n",
    "            # X和y的小批量损失\n",
    "            l = loss(net(X, w, b), y)\n",
    "\n",
    "            # l的形状是(batch_size, 1)，而不是一个标量\n",
    "            # l中的所有元素被加到一起，并以此计算关于[`w`, `b`]的梯度\n",
    "            l.sum().backward()\n",
    "\n",
    "            # 使用参数的梯度更新参数\n",
    "            sgd([w, b], lr, batch_size)\n",
    "        # 接下来的计算不需要梯度,所以使用语句with torch.no_grad():\n",
    "        with torch.no_grad():\n",
    "            train_l = loss(net(features, w, b), labels)\n",
    "            print(f'epoch {epoch + 1}, loss {float(train_l.mean()):f}')\n",
    "\n",
    "\n",
    "train(0.2, 10, 10, lin_reg, squared_loss)\n",
    "print(f'w的估计误差: {true_w - w.reshape(true_w.shape)}')\n",
    "print(f'b的估计误差: {true_b - b}')"
   ],
   "metadata": {
    "collapsed": false,
    "pycharm": {
     "name": "#%%\n"
    }
   }
  },
  {
   "cell_type": "markdown",
   "source": [
    "### 简洁实现"
   ],
   "metadata": {
    "collapsed": false
   }
  },
  {
   "cell_type": "code",
   "execution_count": null,
   "outputs": [],
   "source": [],
   "metadata": {
    "collapsed": false,
    "pycharm": {
     "name": "#%%\n"
    }
   }
  }
 ],
 "metadata": {
  "kernelspec": {
   "display_name": "Python 3",
   "language": "python",
   "name": "python3"
  },
  "language_info": {
   "codemirror_mode": {
    "name": "ipython",
    "version": 2
   },
   "file_extension": ".py",
   "mimetype": "text/x-python",
   "name": "python",
   "nbconvert_exporter": "python",
   "pygments_lexer": "ipython2",
   "version": "2.7.6"
  }
 },
 "nbformat": 4,
 "nbformat_minor": 0
}