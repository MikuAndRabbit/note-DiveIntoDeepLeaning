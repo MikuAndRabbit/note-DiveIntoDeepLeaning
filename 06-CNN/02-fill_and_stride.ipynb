{
 "cells": [
  {
   "cell_type": "markdown",
   "source": [
    "### 概念\n",
    "\n",
    "* 作用\n",
    "    * 填充：扩充图片以减缓图片变小的速度\n",
    "    * 步幅：加快图片变小的速度\n",
    "* 计算公式：给定输入的高宽$n_h,n_w$，核的高宽为$k_h,k_w$，填充的高宽为$p_h,p_w$，高宽的步幅为$s_h,s_w$\n",
    "    * 输出大小：$\\lfloor (n_h-k_h+p_h+s_h)/s_h \\rfloor\\times\\lfloor (n_w-k_w+p_w+s_w)/s_w\\rfloor$\n",
    "    * 如果取$p_h=k_h-1,p_w=k_w-1$，则输出大小为：$\\lfloor (n_h+s_h-1)/s_h \\rfloor\\times\\lfloor (n_w+s_w-1)/s_w\\rfloor$\n",
    "    * 如果输入的高宽可以被步幅整除，则输出大小为：$(n_h/s_h)\\times (n_w/s_w)$\n",
    "\n",
    "### 代码实现"
   ],
   "metadata": {
    "collapsed": false
   }
  },
  {
   "cell_type": "code",
   "execution_count": 1,
   "metadata": {
    "collapsed": true
   },
   "outputs": [],
   "source": [
    "import torch\n",
    "from torch import nn"
   ]
  },
  {
   "cell_type": "code",
   "execution_count": 3,
   "outputs": [
    {
     "name": "stdout",
     "output_type": "stream",
     "text": [
      "torch.Size([8, 8])\n"
     ]
    }
   ],
   "source": [
    "# 这里定义了一个计算卷积层的函数: 此函数初始化卷积层权重,并对输入和输出提高和缩减相应的维数\n",
    "def comp_conv2d(conv2d, X):\n",
    "    # 这里的(1,1)表示批量大小和通道数都是1\n",
    "    X = X.reshape((1, 1) + X.shape)\n",
    "    Y = conv2d(X)\n",
    "    # 省略前两个维度:批量大小和通道\n",
    "    return Y.reshape(Y.shape[2:])\n",
    "\n",
    "\n",
    "# 这里每边都填充了1行或1列，因此总共添加了2行或2列\n",
    "conv2d = nn.Conv2d(1, 1, kernel_size=3, padding=1)\n",
    "X = torch.rand(size=(8, 8))\n",
    "comp_conv2d(conv2d, X).shape"
   ],
   "metadata": {
    "collapsed": false,
    "pycharm": {
     "name": "#%%\n"
    }
   }
  }
 ],
 "metadata": {
  "kernelspec": {
   "display_name": "Python 3",
   "language": "python",
   "name": "python3"
  },
  "language_info": {
   "codemirror_mode": {
    "name": "ipython",
    "version": 2
   },
   "file_extension": ".py",
   "mimetype": "text/x-python",
   "name": "python",
   "nbconvert_exporter": "python",
   "pygments_lexer": "ipython2",
   "version": "2.7.6"
  }
 },
 "nbformat": 4,
 "nbformat_minor": 0
}